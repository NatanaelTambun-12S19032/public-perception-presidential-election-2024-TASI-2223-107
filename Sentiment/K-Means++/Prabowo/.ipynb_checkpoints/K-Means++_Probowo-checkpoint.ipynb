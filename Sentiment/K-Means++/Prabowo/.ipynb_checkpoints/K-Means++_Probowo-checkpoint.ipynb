{
 "cells": [
  {
   "cell_type": "code",
   "execution_count": 1,
   "id": "d69c87c8",
   "metadata": {},
   "outputs": [
    {
     "name": "stderr",
     "output_type": "stream",
     "text": [
      "\n",
      "[notice] A new release of pip is available: 23.0.1 -> 23.1\n",
      "[notice] To update, run: python.exe -m pip install --upgrade pip\n",
      "\n",
      "[notice] A new release of pip is available: 23.0.1 -> 23.1\n",
      "[notice] To update, run: python.exe -m pip install --upgrade pip\n"
     ]
    }
   ],
   "source": [
    "# install package\n",
    "!pip -q install sastrawi\n",
    "!pip -q install nltk"
   ]
  },
  {
   "cell_type": "code",
   "execution_count": null,
   "id": "731abdc9",
   "metadata": {},
   "outputs": [],
   "source": [
    "# import library\n",
    "import pandas as pd\n",
    "import numpy as np\n",
    "import matplotlib.pyplot as plt\n",
    "import pickle\n",
    "import re\n",
    "import nltk\n",
    "nltk.download('stopwords')\n",
    "from nltk.tokenize import sent_tokenize, word_tokenize\n",
    "from nltk.corpus import stopwords\n",
    "from Sastrawi.Stemmer.StemmerFactory import StemmerFactory\n",
    "from sklearn.feature_extraction.text import TfidfVectorizer\n",
    "from sklearn.feature_selection import SelectKBest \n",
    "from sklearn.feature_selection import chi2 \n",
    "import random\n",
    "from joblib import dump\n",
    "from sklearn.naive_bayes import MultinomialNB\n",
    "from sklearn.model_selection import train_test_split\n",
    "from sklearn.metrics import accuracy_score\n",
    "from sklearn.metrics import confusion_matrix\n",
    "from sklearn.metrics import classification_report\n",
    "%matplotlib inline"
   ]
  },
  {
   "cell_type": "code",
   "execution_count": null,
   "id": "3435427f",
   "metadata": {},
   "outputs": [],
   "source": [
    "# read data\n",
    "def load_data():\n",
    "    data = pd.read_csv('E:/Documents/Semester 8/TAmbun/TA_FIX/TAK-MEANS/Anies/Anies.csv' , sep='\\t', encoding='ISO-8859-1')\n",
    "    return data"
   ]
  },
  {
   "cell_type": "code",
   "execution_count": null,
   "id": "d9c27196",
   "metadata": {},
   "outputs": [],
   "source": [
    "data = load_data()\n",
    "df = data\n",
    "df"
   ]
  },
  {
   "cell_type": "markdown",
   "id": "c02e7bfc",
   "metadata": {},
   "source": [
    "### Cleaning"
   ]
  },
  {
   "cell_type": "code",
   "execution_count": null,
   "id": "dbb2e9ce",
   "metadata": {},
   "outputs": [],
   "source": [
    "# remove mention username dan retweet\n",
    "def remove_pattern(text, pattern_regex):\n",
    "    r = re.findall(pattern_regex, text)\n",
    "    for i in r:\n",
    "        text = re.sub(i, '', text)\n",
    "    return text\n",
    "df['clean_comment']= np.vectorize(remove_pattern)(df['comment;;;;'], \" *RT* | *@[\\w]*\")\n",
    "df.head()"
   ]
  },
  {
   "cell_type": "code",
   "execution_count": null,
   "id": "ddaf1ebc",
   "metadata": {},
   "outputs": [],
   "source": [
    "# remove simbol/character\n",
    "def remove(text):\n",
    "    text = ' '.join(re.sub(\"(@[A-Za-z0-9]+)|([^0-9A-Za-z \\t])|(\\w+:\\/\\/\\S+)\",\" \",text).split())\n",
    "    return text\n",
    "df['remove_http'] = df['clean_comment'].apply(lambda x: remove(x))\n",
    "df.head()"
   ]
  },
  {
   "cell_type": "code",
   "execution_count": null,
   "id": "f8f41d5c",
   "metadata": {},
   "outputs": [],
   "source": [
    "# remove\n",
    "def remove(tweet):\n",
    "    #remove stock market tickers like $GE\n",
    "    tweet = re.sub(r'\\$\\w*', '', tweet)\n",
    "\n",
    "    #remove old style retweet text \"RT\"\n",
    "    tweet = re.sub(r'^RT[\\s]+', '', tweet)\n",
    "\n",
    "    #remove hastags, only removing the hash # sign from the word\n",
    "    tweet = re.sub(r'#', '', tweet)\n",
    "\n",
    "    #remove angka\n",
    "    tweet = re.sub('[0-9]+', '', tweet)\n",
    "\n",
    "    return tweet\n",
    "df['remove_hastag'] = df['remove_http'].apply(lambda x: remove(x))\n",
    "df.head()"
   ]
  },
  {
   "cell_type": "markdown",
   "id": "43de1ab0",
   "metadata": {},
   "source": [
    "#### Stopword Removal"
   ]
  },
  {
   "cell_type": "code",
   "execution_count": null,
   "id": "c46cf184",
   "metadata": {},
   "outputs": [],
   "source": [
    "# Menambah kamus stopword yang belum ada di python sastrawi\n",
    "from Sastrawi.StopWordRemover.StopWordRemoverFactory import StopWordRemoverFactory, StopWordRemover, ArrayDictionary\n",
    "\n",
    "stop_factory = StopWordRemoverFactory().get_stop_words()\n",
    "more_stopwords = [\n",
    "    'yg', 'utk', 'cuman', 'deh', 'Btw', 'tapi', 'gua', 'gue', 'lo', 'lu',\n",
    "    'kalo', 'trs', 'jd', 'nih', 'ntar', 'nya', 'lg', 'gk', 'ecusli', 'dpt',\n",
    "    'dr', 'kpn', 'kok', 'kyk', 'donk', 'yah', 'u', 'ya', 'ga', 'km', 'eh',\n",
    "    'sih', 'eh', 'bang', 'br', 'kyk', 'rp', 'jt', 'kan', 'gpp', 'sm', 'usah',\n",
    "    'mas', 'sob', 'thx', 'ato', 'jg', 'gw', 'wkwk', 'mak', 'haha', 'iy', 'k',\n",
    "    'tp', 'haha', 'dg', 'dri', 'duh', 'ye', 'wkwkwk', 'syg', 'btw',\n",
    "    'nerjemahan', 'gaes', 'guys', 'moga', 'kmrn', 'nemu', 'yukkk',\n",
    "    'wkwkw', 'klas', 'iu', 'ew', 'lho', 'sbnry', 'org', 'gtu', 'bwt',\n",
    "    'klrga', 'clau', 'lbh', 'cpet', 'ku', 'uke', 'mba', 'mas', 'sdh', 'kmrn',\n",
    "    'oi', 'spt', 'dlm', 'bs', 'krn', 'jgn', 'sapa', 'spt', 'sh', 'wakakaka',\n",
    "    'sihhh', 'hehe', 'ih', 'dgn', 'la', 'kl', 'ttg', 'mana', 'kmna', 'kmn',\n",
    "    'tdk', 'tuh', 'dah', 'kek', 'ko', 'pls', 'bbrp', 'pd', 'mah', 'dhhh',\n",
    "    'kpd', 'tuh', 'kzl', 'byar', 'si', 'sii', 'cm', 'sy', 'hahahaha', 'weh',\n",
    "    'dlu', 'tuhh'\n",
    "]\n",
    "\n",
    "data = stop_factory + more_stopwords\n",
    "dictionary = ArrayDictionary(data)\n",
    "stp = StopWordRemover(dictionary)\n",
    "\n",
    "df[\"Text_wo_stop\"] = df[\"remove_hastag\"].apply(lambda text: stp.remove(text))\n",
    "df"
   ]
  },
  {
   "cell_type": "code",
   "execution_count": null,
   "id": "3361a3e5",
   "metadata": {},
   "outputs": [],
   "source": [
    "# import library\n",
    "import string\n",
    "\n",
    "factory = StemmerFactory()\n",
    "stemmer = factory.create_stemmer()\n",
    "\n",
    "# tokenizer\n",
    "from nltk.tokenize import TweetTokenizer\n",
    "\n",
    "# happy emoticon\n",
    "emoticons_happy = set([\n",
    "    ':-)', ':)', ';)', ':o)', ':]', ':3', ':c)', ':>', '=]', '8)', '=)', ':}',\n",
    "    ':^)', ':-D', ':D', '8-D', '8D', 'x-D', 'xD', 'X-D', 'XD', '=-D', '=D',\n",
    "    '=-3', '=3', ':-))', \":'-)\", \":')\", ':*', ':^*', '>:P', ':-P', ':P', 'X-P',\n",
    "    'X-p', 'Xp', 'XP', ':-p', ':p', '=p', ':-b', ':b', '>:)', '>;)', '>:-)',\n",
    "    '<3'\n",
    "])\n",
    "\n",
    "# sad emoticon\n",
    "emoticons_sad = set([\n",
    "    ':L', ':-/', '>:/', ':S', '>:[', ':@', ':-(', ':[', ':-||', '=L', ':<',\n",
    "    ':-[', ':-<', '=\\\\', '=/', '>:(', ':(', '>.<', \":'-(\", \":'(\", ':\\\\', ':-c',\n",
    "    ':c', ':{', '>:\\\\', ';('\n",
    "])\n",
    "\n",
    "# all emoticons (happy + sad)\n",
    "emoticons = emoticons_happy.union(emoticons_sad)\n",
    "\n",
    "def clean_tweets(tweet):\n",
    "\n",
    "    # tokenize tweets\n",
    "    tokenizer = TweetTokenizer(preserve_case=False, strip_handles=True, reduce_len=True)\n",
    "    tweet_tokens = tokenizer.tokenize(tweet)\n",
    "\n",
    "    tweets_clean = []\n",
    "    for word in tweet_tokens:\n",
    "        if (word not in data and # remove stopwords\n",
    "              word not in emoticons and # remove emoticons\n",
    "                word not in string.punctuation): # remove punctuation\n",
    "            # tweets_clean.append(word)\n",
    "            stem_word = stemmer.stem(word) # stemming word\n",
    "            tweets_clean.append(stem_word)\n",
    "\n",
    "    return tweets_clean\n",
    "df['comment_token'] = df['Text_wo_stop'].apply(lambda x: clean_tweets(x))\n",
    "df.head() # tokenization"
   ]
  },
  {
   "cell_type": "code",
   "execution_count": null,
   "id": "e4e9c6e9",
   "metadata": {},
   "outputs": [],
   "source": [
    "# remove punct\n",
    "def remove_punct(text):\n",
    "    text = \" \".join([char for char in text if char not in string.punctuation])\n",
    "    return text\n",
    "df['comment'] = df['comment_token'].apply(lambda x: remove_punct(x))\n",
    "df.head()"
   ]
  },
  {
   "cell_type": "code",
   "execution_count": null,
   "id": "f0d98d43",
   "metadata": {},
   "outputs": [],
   "source": [
    "# remove comment kosong\n",
    "df = df[df['comment']!='']\n",
    "\n",
    "# reset index\n",
    "df = df.reset_index(drop=True)\n",
    "df.head()"
   ]
  },
  {
   "cell_type": "code",
   "execution_count": null,
   "id": "128be73d",
   "metadata": {},
   "outputs": [],
   "source": [
    "# remove kolom\n",
    "df.drop(df.columns[[1,2,3,4,5]], axis = 1, inplace = True)\n",
    "df.head()"
   ]
  },
  {
   "cell_type": "code",
   "execution_count": null,
   "id": "c933ddac",
   "metadata": {},
   "outputs": [],
   "source": [
    "df"
   ]
  },
  {
   "cell_type": "code",
   "execution_count": null,
   "id": "0ecbfe7b",
   "metadata": {},
   "outputs": [],
   "source": [
    "# save clean data to file\n",
    "df.to_csv('E:/Documents/Semester 8/TAmbun/TA_FIX/TAK-MEANS/Anies/DataBersih.csv', encoding='utf8', index=False)"
   ]
  },
  {
   "cell_type": "markdown",
   "id": "8f17bcbc",
   "metadata": {},
   "source": [
    "### Clustering K-Means++"
   ]
  },
  {
   "cell_type": "code",
   "execution_count": null,
   "id": "cc26c62b",
   "metadata": {},
   "outputs": [],
   "source": [
    "from sklearn.datasets import make_blobs\n",
    "from sklearn.cluster import KMeans\n",
    "import numpy as np\n",
    "import pandas as pd\n",
    "import matplotlib.pyplot as plt\n",
    "%matplotlib inline\n",
    "from sklearn.preprocessing import MinMaxScaler\n",
    "from sklearn.feature_extraction.text import TfidfVectorizer\n",
    "from sklearn.metrics import silhouette_score"
   ]
  },
  {
   "cell_type": "code",
   "execution_count": null,
   "id": "467aedf6",
   "metadata": {},
   "outputs": [],
   "source": [
    "def load_lexicon_lexis(file_path):\n",
    "    words = []\n",
    "    scores = []\n",
    "    with open(file_path, 'r') as file:\n",
    "        for line in file:\n",
    "            data = line.strip().split(' ')\n",
    "            if len(data) >= 2:\n",
    "                word = data[0].strip()\n",
    "                score = int(data[1].strip())\n",
    "                words.append(word)\n",
    "                scores.append(score)\n",
    "    return dict(zip(words, scores))"
   ]
  },
  {
   "cell_type": "code",
   "execution_count": null,
   "id": "4b597c43",
   "metadata": {},
   "outputs": [],
   "source": [
    "# memuat kamus sentimen\n",
    "lexicon = load_lexicon_lexis('E:/Documents/Semester 8/TAmbun/TA_FIX/TAK-MEANS/Anies/kamus.txt')"
   ]
  },
  {
   "cell_type": "code",
   "execution_count": null,
   "id": "cfbba3ac",
   "metadata": {},
   "outputs": [],
   "source": [
    "df = pd.read_csv('E:/Documents/Semester 8/TAmbun/TA_FIX/TAK-MEANS/Anies/DataBersih.csv') \n",
    "df.head()"
   ]
  },
  {
   "cell_type": "code",
   "execution_count": null,
   "id": "5605682c",
   "metadata": {},
   "outputs": [],
   "source": [
    "# tambahkan kolom untuk menyimpan skor sentiment\n",
    "df['sentiment_score'] = 0"
   ]
  },
  {
   "cell_type": "code",
   "execution_count": null,
   "id": "796561a5",
   "metadata": {},
   "outputs": [],
   "source": [
    "# melakukan pengecekan kata dalam setiap dokumen dan menghitung skor sentiment\n",
    "for i, row in df.iterrows():\n",
    "    words = row['comment'].split()\n",
    "    score = sum([lexicon.get(word, 0) for word in words])\n",
    "    df.at[i, 'sentiment_score'] = score"
   ]
  },
  {
   "cell_type": "code",
   "execution_count": null,
   "id": "17ebf8b9",
   "metadata": {},
   "outputs": [],
   "source": [
    "df"
   ]
  },
  {
   "cell_type": "code",
   "execution_count": null,
   "id": "7fafa7dc",
   "metadata": {},
   "outputs": [],
   "source": [
    "# transformasi tf-idf\n",
    "tfidf_vectorizer = TfidfVectorizer(max_df=0.9, min_df=5, ngram_range=(1,2))\n",
    "X = tfidf_vectorizer.fit_transform(df['comment'])"
   ]
  },
  {
   "cell_type": "code",
   "execution_count": null,
   "id": "8a655a74",
   "metadata": {},
   "outputs": [],
   "source": [
    "# melakukan scaling pada data\n",
    "scaler = MinMaxScaler()\n",
    "X_scaled = scaler.fit_transform(X.toarray())"
   ]
  },
  {
   "cell_type": "code",
   "execution_count": null,
   "id": "aadf833a",
   "metadata": {},
   "outputs": [],
   "source": [
    "display(X)"
   ]
  },
  {
   "cell_type": "code",
   "execution_count": null,
   "id": "d8b2d299",
   "metadata": {},
   "outputs": [],
   "source": [
    "from sklearn.cluster import KMeans\n",
    "from sklearn.datasets import make_blobs\n",
    "\n",
    "# Generate sample data\n",
    "X, y = make_blobs(n_samples=len(df), centers=3, random_state=42)\n",
    "\n",
    "# Set the number of clusters to test\n",
    "k_range = range(1, 10)\n",
    "\n",
    "# Set the seed for the k-means++ algorithm\n",
    "seed = 42\n",
    "\n",
    "# List to store the SSE values for each k\n",
    "sse = []\n",
    "\n",
    "# Loop over k values and fit the k-means model\n",
    "for k in k_range:\n",
    "    kmeans = KMeans(n_clusters=k, init='k-means++', random_state=seed)\n",
    "    kmeans.fit(X)\n",
    "    sse.append(kmeans.inertia_)\n",
    "\n",
    "# Plot the SSE values against k\n",
    "import matplotlib.pyplot as plt\n",
    "\n",
    "plt.plot(k_range, sse)\n",
    "plt.xlabel('Number of clusters')\n",
    "plt.ylabel('SSE')\n",
    "plt.show()"
   ]
  },
  {
   "cell_type": "markdown",
   "id": "5124ec82",
   "metadata": {},
   "source": [
    "#### Clustering"
   ]
  },
  {
   "cell_type": "code",
   "execution_count": null,
   "id": "ea3602bb",
   "metadata": {},
   "outputs": [],
   "source": [
    "from sklearn.cluster import KMeans\n",
    "\n",
    "# melakukan clustering dengan jumlah cluster yang optimal\n",
    "n_clusters = 3\n",
    "kmeans = KMeans(n_clusters=n_clusters, init='k-means++', n_init=10, max_iter=300, random_state=42)\n",
    "kmeans.fit(X_scaled)"
   ]
  },
  {
   "cell_type": "code",
   "execution_count": null,
   "id": "a201263a",
   "metadata": {},
   "outputs": [],
   "source": [
    "# mendapatkan label kelompok untuk setiap data\n",
    "labels = kmeans.fit_predict(X)"
   ]
  },
  {
   "cell_type": "code",
   "execution_count": null,
   "id": "61a880a6",
   "metadata": {},
   "outputs": [],
   "source": [
    "# mendapatkan jumlah kelompok yang terbentuk\n",
    "n_clusters = len(set(labels)) - (1 if -1 in labels else 0)\n",
    "print(\"Jumlah kelompok: \", n_clusters)"
   ]
  },
  {
   "cell_type": "code",
   "execution_count": null,
   "id": "afe928c2",
   "metadata": {},
   "outputs": [],
   "source": [
    "# mengubah data hasil clustering ke dalam format DataFrame\n",
    "df_clustered = pd.DataFrame({'comment': df['comment'], 'cluster': labels})"
   ]
  },
  {
   "cell_type": "markdown",
   "id": "c83e017e",
   "metadata": {},
   "source": [
    "##### Evaluation With Silhouette Coefficient\n"
   ]
  },
  {
   "cell_type": "code",
   "execution_count": null,
   "id": "78de5da1",
   "metadata": {},
   "outputs": [],
   "source": [
    "from sklearn.cluster import KMeans\n",
    "from sklearn.metrics import silhouette_score\n",
    "from sklearn.datasets import make_blobs"
   ]
  },
  {
   "cell_type": "code",
   "execution_count": null,
   "id": "3b9dff05",
   "metadata": {},
   "outputs": [],
   "source": [
    "# generate sample data\n",
    "kmeans.fit(X)\n",
    "labels = kmeans.labels_"
   ]
  },
  {
   "cell_type": "code",
   "execution_count": null,
   "id": "fdedb69d",
   "metadata": {},
   "outputs": [],
   "source": [
    "# menghitung silhouette score\n",
    "score = silhouette_score(X, labels)\n",
    "print(\"Silhouette score:\", score)"
   ]
  },
  {
   "cell_type": "code",
   "execution_count": null,
   "id": "abec31ef",
   "metadata": {},
   "outputs": [],
   "source": [
    "#menampilkan hasil clustering\n",
    "df['cluster'] = labels\n",
    "\n",
    "# Display the number of data points in each cluster\n",
    "print(df.groupby(['cluster']).count())"
   ]
  },
  {
   "cell_type": "code",
   "execution_count": null,
   "id": "70de517f",
   "metadata": {},
   "outputs": [],
   "source": [
    "import seaborn as sns\n",
    "\n",
    "# membuat DataFrame untuk data dan label kelompok\n",
    "df_cluster = pd.DataFrame(X, columns=['x1', 'x2'])\n",
    "df_cluster['cluster'] = labels\n",
    "\n",
    "# membuat plot menggunakan seaborn\n",
    "sns.scatterplot(x='x1', y='x2', data=df_cluster, hue='cluster', palette='bright')\n",
    "plt.title(f\"Clustering hasil k-means dengan {n_clusters} kelompok\")\n",
    "plt.show()"
   ]
  },
  {
   "cell_type": "markdown",
   "id": "128ce4f0",
   "metadata": {},
   "source": [
    "##### Ekstrak 10 Top Kata "
   ]
  },
  {
   "cell_type": "code",
   "execution_count": null,
   "id": "e39f17cc",
   "metadata": {},
   "outputs": [],
   "source": [
    "from sklearn.metrics.pairwise import euclidean_distances\n",
    "\n",
    "# menghitung jarak antara setiap dokumen dan centroid\n",
    "distances = euclidean_distances(X, kmeans.cluster_centers_.reshape(n_clusters, -1))\n",
    "\n",
    "# untuk setiap cluster yang terbentuk, ambil 10 top kata teratas dan identifikasi nilai sentimennya\n",
    "for cluster_id in range(n_clusters):\n",
    "    cluster_words = []\n",
    "    for doc_id, label in enumerate(labels):\n",
    "        if label == cluster_id:\n",
    "            words = df.iloc[doc_id]['comment'].split()\n",
    "            cluster_words.extend(words)\n",
    "    top_words = pd.Series(cluster_words).value_counts().head(10)\n",
    "    top_words_scores = [lexicon.get(word, 0) for word in top_words.index]\n",
    "    print(f\"Cluster {cluster_id} Top 10 words: {', '.join(top_words.index)}\")\n",
    "    print(f\"Sentiment Scores: {', '.join(map(str, top_words_scores))}\")\n"
   ]
  },
  {
   "cell_type": "markdown",
   "id": "b9264214",
   "metadata": {},
   "source": [
    "##### Menghitung Polarity Dari Setiap Cluster"
   ]
  },
  {
   "cell_type": "code",
   "execution_count": null,
   "id": "f1596906",
   "metadata": {},
   "outputs": [],
   "source": [
    "# hitung rata-rata polarity dari setiap cluster\n",
    "cluster_sentiment = []\n",
    "for i in range(n_clusters):\n",
    "    cluster = df[df['cluster'] == i]\n",
    "    sentiment_sum = cluster['sentiment_score'].sum()\n",
    "    num_docs = len(cluster)\n",
    "    avg_sentiment = sentiment_sum / num_docs\n",
    "    cluster_sentiment.append(avg_sentiment)\n",
    "    print(\"Cluster \", i, \" avg sentiment: \", avg_sentiment)\n"
   ]
  },
  {
   "cell_type": "markdown",
   "id": "8d3d5f31",
   "metadata": {},
   "source": [
    "##### Menampilkan Hasil Sentimen"
   ]
  },
  {
   "cell_type": "code",
   "execution_count": null,
   "id": "9cd73cfd",
   "metadata": {},
   "outputs": [],
   "source": [
    "# Membuat array sentimen posifif, netral, dan negatif\n",
    "pos_sentiments = np.arange(1, 6)\n",
    "neu_sentiments = np.array([0])\n",
    "neg_sentiments = np.arange(-5, 0)\n",
    "\n",
    "# Membuat fungsi untuk menghitung jumlah sentimen pada setiap cluster\n",
    "def count_sentiments(cluster):\n",
    "    pos_count = len([score for score in cluster if score in pos_sentiments])\n",
    "    neu_count = len([score for score in cluster if score in neu_sentiments])\n",
    "    neg_count = len([score for score in cluster if score in neg_sentiments])\n",
    "    return pos_count, neu_count, neg_count\n",
    "\n",
    "# Membuat list untuk menyimpan jumlah sentimen positif, netral, dan negatif pada setiap cluster\n",
    "sentiments = []\n",
    "\n",
    "for i in range(n_clusters):\n",
    "    cluster = df[df['cluster'] == i]['sentiment_score']\n",
    "    pos_count, neu_count, neg_count = count_sentiments(cluster)\n",
    "    sentiments.append((pos_count, neu_count, neg_count))\n",
    "\n",
    "# Menampilkan jumlah sentimen positif, netral, dan negatif pada setiap cluster\n",
    "for i, sentiment in enumerate(sentiments):\n",
    "    print(f\"Cluster {i}: {sentiment[0]} sentimen positif, {sentiment[1]} sentimen netral, {sentiment[2]} sentimen negatif\")\n"
   ]
  },
  {
   "cell_type": "code",
   "execution_count": null,
   "id": "cf8143fa",
   "metadata": {},
   "outputs": [],
   "source": [
    "# Mengakumulasi total jumlah sentimen positif, negatif, dan netral dari keseluruhan clusternya\n",
    "total_pos_count = sum([sentiment[0] for sentiment in sentiments])\n",
    "total_neu_count = sum([sentiment[1] for sentiment in sentiments])\n",
    "total_neg_count = sum([sentiment[2] for sentiment in sentiments])\n",
    "\n",
    "# Menampilkan total jumlah sentimen positif, netral, dan negatif dari keseluruhan clusternya\n",
    "print(f\"Total sentimen positif: {total_pos_count}\")\n",
    "print(f\"Total sentimen netral: {total_neu_count}\")\n",
    "print(f\"Total sentimen negatif: {total_neg_count}\")\n"
   ]
  },
  {
   "cell_type": "code",
   "execution_count": null,
   "id": "effbd423",
   "metadata": {},
   "outputs": [],
   "source": [
    "import matplotlib.pyplot as plt\n",
    "\n",
    "# Menyiapkan data untuk pie chart\n",
    "labels = ['Positif', 'Netral', 'Negatif']\n",
    "sizes = [total_pos_count, total_neu_count, total_neg_count]\n",
    "colors = ['#1f77b4', '#ff7f0e', '#d62728']\n",
    "\n",
    "# Membuat pie chart\n",
    "fig, ax = plt.subplots()\n",
    "ax.pie(sizes, labels=labels, colors=colors, autopct='%1.1f%%', startangle=90)\n",
    "\n",
    "# Menambahkan judul pada pie chart\n",
    "ax.set_title('Total Sentimen pada Seluruh Cluster')\n",
    "\n",
    "# Menampilkan pie chart\n",
    "plt.show()\n"
   ]
  },
  {
   "cell_type": "code",
   "execution_count": null,
   "id": "fdad6587",
   "metadata": {},
   "outputs": [],
   "source": []
  }
 ],
 "metadata": {
  "kernelspec": {
   "display_name": "Python 3 (ipykernel)",
   "language": "python",
   "name": "python3"
  },
  "language_info": {
   "codemirror_mode": {
    "name": "ipython",
    "version": 3
   },
   "file_extension": ".py",
   "mimetype": "text/x-python",
   "name": "python",
   "nbconvert_exporter": "python",
   "pygments_lexer": "ipython3",
   "version": "3.9.6"
  }
 },
 "nbformat": 4,
 "nbformat_minor": 5
}
